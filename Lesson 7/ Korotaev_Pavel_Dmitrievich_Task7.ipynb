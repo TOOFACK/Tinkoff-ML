{
 "cells": [
  {
   "cell_type": "markdown",
   "metadata": {
    "id": "EADmNKm_ucFI"
   },
   "source": [
    "## Homework"
   ]
  },
  {
   "cell_type": "code",
   "execution_count": 82,
   "metadata": {
    "id": "wjurpt4KJmCh"
   },
   "outputs": [
    {
     "name": "stdout",
     "output_type": "stream",
     "text": [
      "--2021-03-31 12:06:55--  https://docs.google.com/uc?export=download&id=1OKFSv2GpuUFDphO0r8LdM7bl6MAWwBfX\n",
      "Распознаётся docs.google.com (docs.google.com)… 64.233.162.194, 2a00:1450:4010:c05::c2\n",
      "Подключение к docs.google.com (docs.google.com)|64.233.162.194|:443... соединение установлено.\n",
      "HTTP-запрос отправлен. Ожидание ответа… 302 Moved Temporarily\n",
      "Адрес: https://doc-04-ak-docs.googleusercontent.com/docs/securesc/ha0ro937gcuc7l7deffksulhg5h7mbp1/ta045hgr1nunjkrah7a354g956fttfie/1617181575000/03856158561714992485/*/1OKFSv2GpuUFDphO0r8LdM7bl6MAWwBfX?e=download [переход]\n",
      "Предупреждение: в HTTP шаблоны не поддерживаются.\n",
      "--2021-03-31 12:06:58--  https://doc-04-ak-docs.googleusercontent.com/docs/securesc/ha0ro937gcuc7l7deffksulhg5h7mbp1/ta045hgr1nunjkrah7a354g956fttfie/1617181575000/03856158561714992485/*/1OKFSv2GpuUFDphO0r8LdM7bl6MAWwBfX?e=download\n",
      "Распознаётся doc-04-ak-docs.googleusercontent.com (doc-04-ak-docs.googleusercontent.com)… 216.58.209.193, 2a00:1450:4026:803::2001\n",
      "Подключение к doc-04-ak-docs.googleusercontent.com (doc-04-ak-docs.googleusercontent.com)|216.58.209.193|:443... соединение установлено.\n",
      "HTTP-запрос отправлен. Ожидание ответа… 200 OK\n",
      "Длина: нет данных [text/csv]\n",
      "Сохранение в: «data.csv»\n",
      "\n",
      "data.csv                [ <=>                ]  31,78M   130KB/s    за 7m 6s   \n",
      "\n",
      "2021-03-31 12:14:04 (76,5 KB/s) - «data.csv» сохранён [33322228]\n",
      "\n"
     ]
    }
   ],
   "source": [
    "!wget --no-check-certificate 'https://docs.google.com/uc?export=download&id=1OKFSv2GpuUFDphO0r8LdM7bl6MAWwBfX' -O data.csv"
   ]
  },
  {
   "cell_type": "markdown",
   "metadata": {
    "id": "UBAI5LS2xBSm"
   },
   "source": [
    "В этой домашней работе вы будете предсказывать стоимость домов по их характеристикам.\n",
    "\n",
    "Метрика качества: `RMSE`\n",
    "\n",
    "Оценивание:\n",
    "* Baseline - 2 балла\n",
    "* Feature Engineering - 2 балла\n",
    "* Model Selection - 3 балла\n",
    "* Ensemble v.1 - 3 балла\n",
    "* (*) Ensemble v.2 - дополнительно, 2 балла"
   ]
  },
  {
   "cell_type": "markdown",
   "metadata": {
    "id": "aBZhr_dw6HAn"
   },
   "source": [
    "### Описание датасета\n",
    "\n",
    "Короткое описание данных:\n",
    "```\n",
    "price: sale price (this is the target variable)\n",
    "id: transaction id\n",
    "timestamp: date of transaction\n",
    "full_sq: total area in square meters, including loggias, balconies and other non-residential areas\n",
    "life_sq: living area in square meters, excluding loggias, balconies and other non-residential areas\n",
    "floor: for apartments, floor of the building\n",
    "max_floor: number of floors in the building\n",
    "material: wall material\n",
    "build_year: year built\n",
    "num_room: number of living rooms\n",
    "kitch_sq: kitchen area\n",
    "state: apartment condition\n",
    "product_type: owner-occupier purchase or investment\n",
    "sub_area: name of the district\n",
    "\n",
    "The dataset also includes a collection of features about each property's surrounding neighbourhood, and some features that are constant across each sub area (known as a Raion). Most of the feature names are self explanatory, with the following notes. See below for a complete list.\n",
    "\n",
    "full_all: subarea population\n",
    "male_f, female_f: subarea population by gender\n",
    "young_*: population younger than working age\n",
    "work_*: working-age population\n",
    "ekder_*: retirement-age population\n",
    "n_m_{all|male|female}: population between n and m years old\n",
    "build_count_*: buildings in the subarea by construction type or year\n",
    "x_count_500: the number of x within 500m of the property\n",
    "x_part_500: the share of x within 500m of the property\n",
    "_sqm_: square meters\n",
    "cafe_count_d_price_p: number of cafes within d meters of the property that have an average bill under p RUB\n",
    "trc_: shopping malls\n",
    "prom_: industrial zones\n",
    "green_: green zones\n",
    "metro_: subway\n",
    "_avto_: distances by car\n",
    "mkad_: Moscow Circle Auto Road\n",
    "ttk_: Third Transport Ring\n",
    "sadovoe_: Garden Ring\n",
    "bulvar_ring_: Boulevard Ring\n",
    "kremlin_: City center\n",
    "zd_vokzaly_: Train station\n",
    "oil_chemistry_: Dirty industry\n",
    "ts_: Power plant\n",
    "```"
   ]
  },
  {
   "cell_type": "markdown",
   "metadata": {
    "id": "TOPtM_06uyqv"
   },
   "source": [
    "### Setup"
   ]
  },
  {
   "cell_type": "code",
   "execution_count": 1,
   "metadata": {
    "id": "9TpHMcn3u0MV"
   },
   "outputs": [],
   "source": [
    "import pandas as pd\n",
    "import numpy as np"
   ]
  },
  {
   "cell_type": "code",
   "execution_count": 46,
   "metadata": {
    "id": "-TLkVG3EwJzj"
   },
   "outputs": [],
   "source": [
    "df = pd.read_csv(\"data.csv\", parse_dates=[\"timestamp\"])"
   ]
  },
  {
   "cell_type": "code",
   "execution_count": 3,
   "metadata": {
    "scrolled": false
   },
   "outputs": [
    {
     "data": {
      "text/html": [
       "<div>\n",
       "<style scoped>\n",
       "    .dataframe tbody tr th:only-of-type {\n",
       "        vertical-align: middle;\n",
       "    }\n",
       "\n",
       "    .dataframe tbody tr th {\n",
       "        vertical-align: top;\n",
       "    }\n",
       "\n",
       "    .dataframe thead th {\n",
       "        text-align: right;\n",
       "    }\n",
       "</style>\n",
       "<table border=\"1\" class=\"dataframe\">\n",
       "  <thead>\n",
       "    <tr style=\"text-align: right;\">\n",
       "      <th></th>\n",
       "      <th>id</th>\n",
       "      <th>timestamp</th>\n",
       "      <th>full_sq</th>\n",
       "      <th>life_sq</th>\n",
       "      <th>floor</th>\n",
       "      <th>max_floor</th>\n",
       "      <th>material</th>\n",
       "      <th>build_year</th>\n",
       "      <th>num_room</th>\n",
       "      <th>kitch_sq</th>\n",
       "      <th>...</th>\n",
       "      <th>cafe_count_5000_price_2500</th>\n",
       "      <th>cafe_count_5000_price_4000</th>\n",
       "      <th>cafe_count_5000_price_high</th>\n",
       "      <th>big_church_count_5000</th>\n",
       "      <th>church_count_5000</th>\n",
       "      <th>mosque_count_5000</th>\n",
       "      <th>leisure_count_5000</th>\n",
       "      <th>sport_count_5000</th>\n",
       "      <th>market_count_5000</th>\n",
       "      <th>price</th>\n",
       "    </tr>\n",
       "  </thead>\n",
       "  <tbody>\n",
       "    <tr>\n",
       "      <th>0</th>\n",
       "      <td>0</td>\n",
       "      <td>2014-12-26</td>\n",
       "      <td>1</td>\n",
       "      <td>1.0</td>\n",
       "      <td>1.0</td>\n",
       "      <td>1.0</td>\n",
       "      <td>1.0</td>\n",
       "      <td>1.0</td>\n",
       "      <td>1.0</td>\n",
       "      <td>1.0</td>\n",
       "      <td>...</td>\n",
       "      <td>36</td>\n",
       "      <td>7</td>\n",
       "      <td>2</td>\n",
       "      <td>15</td>\n",
       "      <td>33</td>\n",
       "      <td>1</td>\n",
       "      <td>12</td>\n",
       "      <td>75</td>\n",
       "      <td>10</td>\n",
       "      <td>15318960</td>\n",
       "    </tr>\n",
       "    <tr>\n",
       "      <th>1</th>\n",
       "      <td>1</td>\n",
       "      <td>2012-10-04</td>\n",
       "      <td>64</td>\n",
       "      <td>64.0</td>\n",
       "      <td>16.0</td>\n",
       "      <td>NaN</td>\n",
       "      <td>NaN</td>\n",
       "      <td>NaN</td>\n",
       "      <td>NaN</td>\n",
       "      <td>NaN</td>\n",
       "      <td>...</td>\n",
       "      <td>2</td>\n",
       "      <td>2</td>\n",
       "      <td>0</td>\n",
       "      <td>0</td>\n",
       "      <td>13</td>\n",
       "      <td>1</td>\n",
       "      <td>0</td>\n",
       "      <td>6</td>\n",
       "      <td>1</td>\n",
       "      <td>6080000</td>\n",
       "    </tr>\n",
       "    <tr>\n",
       "      <th>2</th>\n",
       "      <td>2</td>\n",
       "      <td>2014-02-05</td>\n",
       "      <td>83</td>\n",
       "      <td>44.0</td>\n",
       "      <td>9.0</td>\n",
       "      <td>17.0</td>\n",
       "      <td>1.0</td>\n",
       "      <td>1985.0</td>\n",
       "      <td>3.0</td>\n",
       "      <td>10.0</td>\n",
       "      <td>...</td>\n",
       "      <td>13</td>\n",
       "      <td>6</td>\n",
       "      <td>1</td>\n",
       "      <td>8</td>\n",
       "      <td>18</td>\n",
       "      <td>0</td>\n",
       "      <td>1</td>\n",
       "      <td>52</td>\n",
       "      <td>0</td>\n",
       "      <td>17000000</td>\n",
       "    </tr>\n",
       "    <tr>\n",
       "      <th>3</th>\n",
       "      <td>3</td>\n",
       "      <td>2012-07-26</td>\n",
       "      <td>71</td>\n",
       "      <td>49.0</td>\n",
       "      <td>2.0</td>\n",
       "      <td>NaN</td>\n",
       "      <td>NaN</td>\n",
       "      <td>NaN</td>\n",
       "      <td>NaN</td>\n",
       "      <td>NaN</td>\n",
       "      <td>...</td>\n",
       "      <td>0</td>\n",
       "      <td>0</td>\n",
       "      <td>0</td>\n",
       "      <td>1</td>\n",
       "      <td>3</td>\n",
       "      <td>0</td>\n",
       "      <td>2</td>\n",
       "      <td>8</td>\n",
       "      <td>2</td>\n",
       "      <td>990000</td>\n",
       "    </tr>\n",
       "    <tr>\n",
       "      <th>4</th>\n",
       "      <td>4</td>\n",
       "      <td>2014-10-29</td>\n",
       "      <td>60</td>\n",
       "      <td>42.0</td>\n",
       "      <td>9.0</td>\n",
       "      <td>9.0</td>\n",
       "      <td>1.0</td>\n",
       "      <td>1970.0</td>\n",
       "      <td>3.0</td>\n",
       "      <td>6.0</td>\n",
       "      <td>...</td>\n",
       "      <td>3</td>\n",
       "      <td>1</td>\n",
       "      <td>0</td>\n",
       "      <td>5</td>\n",
       "      <td>8</td>\n",
       "      <td>0</td>\n",
       "      <td>1</td>\n",
       "      <td>34</td>\n",
       "      <td>5</td>\n",
       "      <td>7900000</td>\n",
       "    </tr>\n",
       "  </tbody>\n",
       "</table>\n",
       "<p>5 rows × 292 columns</p>\n",
       "</div>"
      ],
      "text/plain": [
       "   id  timestamp  full_sq  life_sq  floor  max_floor  material  build_year  \\\n",
       "0   0 2014-12-26        1      1.0    1.0        1.0       1.0         1.0   \n",
       "1   1 2012-10-04       64     64.0   16.0        NaN       NaN         NaN   \n",
       "2   2 2014-02-05       83     44.0    9.0       17.0       1.0      1985.0   \n",
       "3   3 2012-07-26       71     49.0    2.0        NaN       NaN         NaN   \n",
       "4   4 2014-10-29       60     42.0    9.0        9.0       1.0      1970.0   \n",
       "\n",
       "   num_room  kitch_sq  ...  cafe_count_5000_price_2500  \\\n",
       "0       1.0       1.0  ...                          36   \n",
       "1       NaN       NaN  ...                           2   \n",
       "2       3.0      10.0  ...                          13   \n",
       "3       NaN       NaN  ...                           0   \n",
       "4       3.0       6.0  ...                           3   \n",
       "\n",
       "  cafe_count_5000_price_4000 cafe_count_5000_price_high  \\\n",
       "0                          7                          2   \n",
       "1                          2                          0   \n",
       "2                          6                          1   \n",
       "3                          0                          0   \n",
       "4                          1                          0   \n",
       "\n",
       "   big_church_count_5000  church_count_5000  mosque_count_5000  \\\n",
       "0                     15                 33                  1   \n",
       "1                      0                 13                  1   \n",
       "2                      8                 18                  0   \n",
       "3                      1                  3                  0   \n",
       "4                      5                  8                  0   \n",
       "\n",
       "   leisure_count_5000  sport_count_5000  market_count_5000     price  \n",
       "0                  12                75                 10  15318960  \n",
       "1                   0                 6                  1   6080000  \n",
       "2                   1                52                  0  17000000  \n",
       "3                   2                 8                  2    990000  \n",
       "4                   1                34                  5   7900000  \n",
       "\n",
       "[5 rows x 292 columns]"
      ]
     },
     "execution_count": 3,
     "metadata": {},
     "output_type": "execute_result"
    }
   ],
   "source": [
    "df.head()"
   ]
  },
  {
   "cell_type": "markdown",
   "metadata": {
    "id": "znjwH9_mx3fZ"
   },
   "source": [
    "Разделите имеющиеся у вас данные на обучающую и тестовую выборки. В качестве обучающей выборки возьмите первые 80% данных, последние 20% - тестовая выборка."
   ]
  },
  {
   "cell_type": "code",
   "execution_count": 4,
   "metadata": {
    "id": "hwfNR565wMKN",
    "scrolled": true
   },
   "outputs": [],
   "source": [
    "X = df.drop(['price', 'id', 'timestamp'],1)\n",
    "y = df['price']"
   ]
  },
  {
   "cell_type": "code",
   "execution_count": 5,
   "metadata": {},
   "outputs": [],
   "source": [
    "X = X._get_numeric_data()"
   ]
  },
  {
   "cell_type": "code",
   "execution_count": 6,
   "metadata": {
    "scrolled": true
   },
   "outputs": [
    {
     "data": {
      "text/html": [
       "<div>\n",
       "<style scoped>\n",
       "    .dataframe tbody tr th:only-of-type {\n",
       "        vertical-align: middle;\n",
       "    }\n",
       "\n",
       "    .dataframe tbody tr th {\n",
       "        vertical-align: top;\n",
       "    }\n",
       "\n",
       "    .dataframe thead th {\n",
       "        text-align: right;\n",
       "    }\n",
       "</style>\n",
       "<table border=\"1\" class=\"dataframe\">\n",
       "  <thead>\n",
       "    <tr style=\"text-align: right;\">\n",
       "      <th></th>\n",
       "      <th>full_sq</th>\n",
       "      <th>life_sq</th>\n",
       "      <th>floor</th>\n",
       "      <th>max_floor</th>\n",
       "      <th>material</th>\n",
       "      <th>build_year</th>\n",
       "      <th>num_room</th>\n",
       "      <th>kitch_sq</th>\n",
       "      <th>state</th>\n",
       "      <th>area_m</th>\n",
       "      <th>...</th>\n",
       "      <th>cafe_count_5000_price_1500</th>\n",
       "      <th>cafe_count_5000_price_2500</th>\n",
       "      <th>cafe_count_5000_price_4000</th>\n",
       "      <th>cafe_count_5000_price_high</th>\n",
       "      <th>big_church_count_5000</th>\n",
       "      <th>church_count_5000</th>\n",
       "      <th>mosque_count_5000</th>\n",
       "      <th>leisure_count_5000</th>\n",
       "      <th>sport_count_5000</th>\n",
       "      <th>market_count_5000</th>\n",
       "    </tr>\n",
       "  </thead>\n",
       "  <tbody>\n",
       "    <tr>\n",
       "      <th>0</th>\n",
       "      <td>1</td>\n",
       "      <td>1.0</td>\n",
       "      <td>1.0</td>\n",
       "      <td>1.0</td>\n",
       "      <td>1.0</td>\n",
       "      <td>1.0</td>\n",
       "      <td>1.0</td>\n",
       "      <td>1.0</td>\n",
       "      <td>1.0</td>\n",
       "      <td>5.293465e+06</td>\n",
       "      <td>...</td>\n",
       "      <td>91</td>\n",
       "      <td>36</td>\n",
       "      <td>7</td>\n",
       "      <td>2</td>\n",
       "      <td>15</td>\n",
       "      <td>33</td>\n",
       "      <td>1</td>\n",
       "      <td>12</td>\n",
       "      <td>75</td>\n",
       "      <td>10</td>\n",
       "    </tr>\n",
       "    <tr>\n",
       "      <th>1</th>\n",
       "      <td>64</td>\n",
       "      <td>64.0</td>\n",
       "      <td>16.0</td>\n",
       "      <td>NaN</td>\n",
       "      <td>NaN</td>\n",
       "      <td>NaN</td>\n",
       "      <td>NaN</td>\n",
       "      <td>NaN</td>\n",
       "      <td>NaN</td>\n",
       "      <td>6.677245e+07</td>\n",
       "      <td>...</td>\n",
       "      <td>3</td>\n",
       "      <td>2</td>\n",
       "      <td>2</td>\n",
       "      <td>0</td>\n",
       "      <td>0</td>\n",
       "      <td>13</td>\n",
       "      <td>1</td>\n",
       "      <td>0</td>\n",
       "      <td>6</td>\n",
       "      <td>1</td>\n",
       "    </tr>\n",
       "    <tr>\n",
       "      <th>2</th>\n",
       "      <td>83</td>\n",
       "      <td>44.0</td>\n",
       "      <td>9.0</td>\n",
       "      <td>17.0</td>\n",
       "      <td>1.0</td>\n",
       "      <td>1985.0</td>\n",
       "      <td>3.0</td>\n",
       "      <td>10.0</td>\n",
       "      <td>3.0</td>\n",
       "      <td>1.216448e+07</td>\n",
       "      <td>...</td>\n",
       "      <td>23</td>\n",
       "      <td>13</td>\n",
       "      <td>6</td>\n",
       "      <td>1</td>\n",
       "      <td>8</td>\n",
       "      <td>18</td>\n",
       "      <td>0</td>\n",
       "      <td>1</td>\n",
       "      <td>52</td>\n",
       "      <td>0</td>\n",
       "    </tr>\n",
       "    <tr>\n",
       "      <th>3</th>\n",
       "      <td>71</td>\n",
       "      <td>49.0</td>\n",
       "      <td>2.0</td>\n",
       "      <td>NaN</td>\n",
       "      <td>NaN</td>\n",
       "      <td>NaN</td>\n",
       "      <td>NaN</td>\n",
       "      <td>NaN</td>\n",
       "      <td>NaN</td>\n",
       "      <td>4.708040e+06</td>\n",
       "      <td>...</td>\n",
       "      <td>3</td>\n",
       "      <td>0</td>\n",
       "      <td>0</td>\n",
       "      <td>0</td>\n",
       "      <td>1</td>\n",
       "      <td>3</td>\n",
       "      <td>0</td>\n",
       "      <td>2</td>\n",
       "      <td>8</td>\n",
       "      <td>2</td>\n",
       "    </tr>\n",
       "    <tr>\n",
       "      <th>4</th>\n",
       "      <td>60</td>\n",
       "      <td>42.0</td>\n",
       "      <td>9.0</td>\n",
       "      <td>9.0</td>\n",
       "      <td>1.0</td>\n",
       "      <td>1970.0</td>\n",
       "      <td>3.0</td>\n",
       "      <td>6.0</td>\n",
       "      <td>2.0</td>\n",
       "      <td>1.428699e+07</td>\n",
       "      <td>...</td>\n",
       "      <td>12</td>\n",
       "      <td>3</td>\n",
       "      <td>1</td>\n",
       "      <td>0</td>\n",
       "      <td>5</td>\n",
       "      <td>8</td>\n",
       "      <td>0</td>\n",
       "      <td>1</td>\n",
       "      <td>34</td>\n",
       "      <td>5</td>\n",
       "    </tr>\n",
       "  </tbody>\n",
       "</table>\n",
       "<p>5 rows × 274 columns</p>\n",
       "</div>"
      ],
      "text/plain": [
       "   full_sq  life_sq  floor  max_floor  material  build_year  num_room  \\\n",
       "0        1      1.0    1.0        1.0       1.0         1.0       1.0   \n",
       "1       64     64.0   16.0        NaN       NaN         NaN       NaN   \n",
       "2       83     44.0    9.0       17.0       1.0      1985.0       3.0   \n",
       "3       71     49.0    2.0        NaN       NaN         NaN       NaN   \n",
       "4       60     42.0    9.0        9.0       1.0      1970.0       3.0   \n",
       "\n",
       "   kitch_sq  state        area_m  ...  cafe_count_5000_price_1500  \\\n",
       "0       1.0    1.0  5.293465e+06  ...                          91   \n",
       "1       NaN    NaN  6.677245e+07  ...                           3   \n",
       "2      10.0    3.0  1.216448e+07  ...                          23   \n",
       "3       NaN    NaN  4.708040e+06  ...                           3   \n",
       "4       6.0    2.0  1.428699e+07  ...                          12   \n",
       "\n",
       "   cafe_count_5000_price_2500  cafe_count_5000_price_4000  \\\n",
       "0                          36                           7   \n",
       "1                           2                           2   \n",
       "2                          13                           6   \n",
       "3                           0                           0   \n",
       "4                           3                           1   \n",
       "\n",
       "   cafe_count_5000_price_high  big_church_count_5000  church_count_5000  \\\n",
       "0                           2                     15                 33   \n",
       "1                           0                      0                 13   \n",
       "2                           1                      8                 18   \n",
       "3                           0                      1                  3   \n",
       "4                           0                      5                  8   \n",
       "\n",
       "   mosque_count_5000  leisure_count_5000  sport_count_5000  market_count_5000  \n",
       "0                  1                  12                75                 10  \n",
       "1                  1                   0                 6                  1  \n",
       "2                  0                   1                52                  0  \n",
       "3                  0                   2                 8                  2  \n",
       "4                  0                   1                34                  5  \n",
       "\n",
       "[5 rows x 274 columns]"
      ]
     },
     "execution_count": 6,
     "metadata": {},
     "output_type": "execute_result"
    }
   ],
   "source": [
    "X.head()"
   ]
  },
  {
   "cell_type": "code",
   "execution_count": 7,
   "metadata": {
    "scrolled": true
   },
   "outputs": [],
   "source": [
    "X = X.fillna(X.mode().iloc[0])"
   ]
  },
  {
   "cell_type": "code",
   "execution_count": 8,
   "metadata": {
    "scrolled": true
   },
   "outputs": [
    {
     "data": {
      "text/html": [
       "<div>\n",
       "<style scoped>\n",
       "    .dataframe tbody tr th:only-of-type {\n",
       "        vertical-align: middle;\n",
       "    }\n",
       "\n",
       "    .dataframe tbody tr th {\n",
       "        vertical-align: top;\n",
       "    }\n",
       "\n",
       "    .dataframe thead th {\n",
       "        text-align: right;\n",
       "    }\n",
       "</style>\n",
       "<table border=\"1\" class=\"dataframe\">\n",
       "  <thead>\n",
       "    <tr style=\"text-align: right;\">\n",
       "      <th></th>\n",
       "      <th>full_sq</th>\n",
       "      <th>life_sq</th>\n",
       "      <th>floor</th>\n",
       "      <th>max_floor</th>\n",
       "      <th>material</th>\n",
       "      <th>build_year</th>\n",
       "      <th>num_room</th>\n",
       "      <th>kitch_sq</th>\n",
       "      <th>state</th>\n",
       "      <th>area_m</th>\n",
       "      <th>...</th>\n",
       "      <th>cafe_count_5000_price_1500</th>\n",
       "      <th>cafe_count_5000_price_2500</th>\n",
       "      <th>cafe_count_5000_price_4000</th>\n",
       "      <th>cafe_count_5000_price_high</th>\n",
       "      <th>big_church_count_5000</th>\n",
       "      <th>church_count_5000</th>\n",
       "      <th>mosque_count_5000</th>\n",
       "      <th>leisure_count_5000</th>\n",
       "      <th>sport_count_5000</th>\n",
       "      <th>market_count_5000</th>\n",
       "    </tr>\n",
       "  </thead>\n",
       "  <tbody>\n",
       "    <tr>\n",
       "      <th>0</th>\n",
       "      <td>1</td>\n",
       "      <td>1.0</td>\n",
       "      <td>1.0</td>\n",
       "      <td>1.0</td>\n",
       "      <td>1.0</td>\n",
       "      <td>1.0</td>\n",
       "      <td>1.0</td>\n",
       "      <td>1.0</td>\n",
       "      <td>1.0</td>\n",
       "      <td>5.293465e+06</td>\n",
       "      <td>...</td>\n",
       "      <td>91</td>\n",
       "      <td>36</td>\n",
       "      <td>7</td>\n",
       "      <td>2</td>\n",
       "      <td>15</td>\n",
       "      <td>33</td>\n",
       "      <td>1</td>\n",
       "      <td>12</td>\n",
       "      <td>75</td>\n",
       "      <td>10</td>\n",
       "    </tr>\n",
       "    <tr>\n",
       "      <th>1</th>\n",
       "      <td>64</td>\n",
       "      <td>64.0</td>\n",
       "      <td>16.0</td>\n",
       "      <td>17.0</td>\n",
       "      <td>1.0</td>\n",
       "      <td>2014.0</td>\n",
       "      <td>2.0</td>\n",
       "      <td>1.0</td>\n",
       "      <td>2.0</td>\n",
       "      <td>6.677245e+07</td>\n",
       "      <td>...</td>\n",
       "      <td>3</td>\n",
       "      <td>2</td>\n",
       "      <td>2</td>\n",
       "      <td>0</td>\n",
       "      <td>0</td>\n",
       "      <td>13</td>\n",
       "      <td>1</td>\n",
       "      <td>0</td>\n",
       "      <td>6</td>\n",
       "      <td>1</td>\n",
       "    </tr>\n",
       "    <tr>\n",
       "      <th>2</th>\n",
       "      <td>83</td>\n",
       "      <td>44.0</td>\n",
       "      <td>9.0</td>\n",
       "      <td>17.0</td>\n",
       "      <td>1.0</td>\n",
       "      <td>1985.0</td>\n",
       "      <td>3.0</td>\n",
       "      <td>10.0</td>\n",
       "      <td>3.0</td>\n",
       "      <td>1.216448e+07</td>\n",
       "      <td>...</td>\n",
       "      <td>23</td>\n",
       "      <td>13</td>\n",
       "      <td>6</td>\n",
       "      <td>1</td>\n",
       "      <td>8</td>\n",
       "      <td>18</td>\n",
       "      <td>0</td>\n",
       "      <td>1</td>\n",
       "      <td>52</td>\n",
       "      <td>0</td>\n",
       "    </tr>\n",
       "    <tr>\n",
       "      <th>3</th>\n",
       "      <td>71</td>\n",
       "      <td>49.0</td>\n",
       "      <td>2.0</td>\n",
       "      <td>17.0</td>\n",
       "      <td>1.0</td>\n",
       "      <td>2014.0</td>\n",
       "      <td>2.0</td>\n",
       "      <td>1.0</td>\n",
       "      <td>2.0</td>\n",
       "      <td>4.708040e+06</td>\n",
       "      <td>...</td>\n",
       "      <td>3</td>\n",
       "      <td>0</td>\n",
       "      <td>0</td>\n",
       "      <td>0</td>\n",
       "      <td>1</td>\n",
       "      <td>3</td>\n",
       "      <td>0</td>\n",
       "      <td>2</td>\n",
       "      <td>8</td>\n",
       "      <td>2</td>\n",
       "    </tr>\n",
       "    <tr>\n",
       "      <th>4</th>\n",
       "      <td>60</td>\n",
       "      <td>42.0</td>\n",
       "      <td>9.0</td>\n",
       "      <td>9.0</td>\n",
       "      <td>1.0</td>\n",
       "      <td>1970.0</td>\n",
       "      <td>3.0</td>\n",
       "      <td>6.0</td>\n",
       "      <td>2.0</td>\n",
       "      <td>1.428699e+07</td>\n",
       "      <td>...</td>\n",
       "      <td>12</td>\n",
       "      <td>3</td>\n",
       "      <td>1</td>\n",
       "      <td>0</td>\n",
       "      <td>5</td>\n",
       "      <td>8</td>\n",
       "      <td>0</td>\n",
       "      <td>1</td>\n",
       "      <td>34</td>\n",
       "      <td>5</td>\n",
       "    </tr>\n",
       "  </tbody>\n",
       "</table>\n",
       "<p>5 rows × 274 columns</p>\n",
       "</div>"
      ],
      "text/plain": [
       "   full_sq  life_sq  floor  max_floor  material  build_year  num_room  \\\n",
       "0        1      1.0    1.0        1.0       1.0         1.0       1.0   \n",
       "1       64     64.0   16.0       17.0       1.0      2014.0       2.0   \n",
       "2       83     44.0    9.0       17.0       1.0      1985.0       3.0   \n",
       "3       71     49.0    2.0       17.0       1.0      2014.0       2.0   \n",
       "4       60     42.0    9.0        9.0       1.0      1970.0       3.0   \n",
       "\n",
       "   kitch_sq  state        area_m  ...  cafe_count_5000_price_1500  \\\n",
       "0       1.0    1.0  5.293465e+06  ...                          91   \n",
       "1       1.0    2.0  6.677245e+07  ...                           3   \n",
       "2      10.0    3.0  1.216448e+07  ...                          23   \n",
       "3       1.0    2.0  4.708040e+06  ...                           3   \n",
       "4       6.0    2.0  1.428699e+07  ...                          12   \n",
       "\n",
       "   cafe_count_5000_price_2500  cafe_count_5000_price_4000  \\\n",
       "0                          36                           7   \n",
       "1                           2                           2   \n",
       "2                          13                           6   \n",
       "3                           0                           0   \n",
       "4                           3                           1   \n",
       "\n",
       "   cafe_count_5000_price_high  big_church_count_5000  church_count_5000  \\\n",
       "0                           2                     15                 33   \n",
       "1                           0                      0                 13   \n",
       "2                           1                      8                 18   \n",
       "3                           0                      1                  3   \n",
       "4                           0                      5                  8   \n",
       "\n",
       "   mosque_count_5000  leisure_count_5000  sport_count_5000  market_count_5000  \n",
       "0                  1                  12                75                 10  \n",
       "1                  1                   0                 6                  1  \n",
       "2                  0                   1                52                  0  \n",
       "3                  0                   2                 8                  2  \n",
       "4                  0                   1                34                  5  \n",
       "\n",
       "[5 rows x 274 columns]"
      ]
     },
     "execution_count": 8,
     "metadata": {},
     "output_type": "execute_result"
    }
   ],
   "source": [
    "X.head()"
   ]
  },
  {
   "cell_type": "markdown",
   "metadata": {
    "id": "pL4dJJwZP86w"
   },
   "source": [
    "Возможно в ваших моделях вам придется указывать, какие колонки являются категориальными (например, в бустингах). Для упрощения предлагается разделить колонки по следующему принципу:\n",
    "```\n",
    "drop_columns = [\n",
    "    'id',           # May leak information\n",
    "    'timestamp',    # May leak information\n",
    "]\n",
    "cat_columns = [\n",
    "    'product_type',              #\n",
    "    'material',                  # Material of the wall\n",
    "    'state',                     # Satisfaction level\n",
    "    'sub_area',                  # District name\n",
    "    'culture_objects_top_25',    #\n",
    "    'thermal_power_plant_raion', #\n",
    "    'incineration_raion',        #\n",
    "    'oil_chemistry_raion',       #\n",
    "    'radiation_raion',           #\n",
    "    'railroad_terminal_raion',   #\n",
    "    'big_market_raion',          #\n",
    "    'nuclear_reactor_raion',     #\n",
    "    'detention_facility_raion',  #\n",
    "    'ID_metro',                  #\n",
    "    'ID_railroad_station_walk',  #\n",
    "    'ID_railroad_station_avto',  #\n",
    "    'water_1line',               #\n",
    "    'ID_big_road1',              #\n",
    "    'big_road1_1line',           #\n",
    "    'ID_big_road2',              #\n",
    "    'railroad_1line',            #\n",
    "    'ID_railroad_terminal',      #\n",
    "    'ID_bus_terminal',           #\n",
    "    'ecology',                   #\n",
    "]\n",
    "num_columns = list(set(df.columns).difference(set(cat_columns + drop_columns)))\n",
    "```"
   ]
  },
  {
   "cell_type": "markdown",
   "metadata": {
    "id": "oiOby6hNu92W"
   },
   "source": [
    "### Baseline (2 балла)\n",
    "\n",
    "В качестве Baseline обучите `DecisionTreeRegressor` из `sklearn`."
   ]
  },
  {
   "cell_type": "code",
   "execution_count": 134,
   "metadata": {},
   "outputs": [
    {
     "data": {
      "text/plain": [
       "(19657, 279)"
      ]
     },
     "execution_count": 134,
     "metadata": {},
     "output_type": "execute_result"
    }
   ],
   "source": [
    "X.shape"
   ]
  },
  {
   "cell_type": "code",
   "execution_count": 112,
   "metadata": {
    "id": "gJIDf3kn1Wfv"
   },
   "outputs": [],
   "source": [
    "from sklearn.model_selection import train_test_split\n",
    "X_train, X_test, y_train, y_test = train_test_split(X, y, test_size = 0.8, random_state = 42)"
   ]
  },
  {
   "cell_type": "markdown",
   "metadata": {
    "id": "XUC7NFhw1X41"
   },
   "source": [
    "Проверьте качество на отложенной выборке."
   ]
  },
  {
   "cell_type": "code",
   "execution_count": 114,
   "metadata": {
    "id": "O_LCiQIN1bzD"
   },
   "outputs": [
    {
     "name": "stdout",
     "output_type": "stream",
     "text": [
      "3092720.7704128544\n"
     ]
    }
   ],
   "source": [
    "from sklearn.tree import DecisionTreeClassifier\n",
    "from sklearn.metrics import mean_squared_error\n",
    "clf = DecisionTreeClassifier(max_depth=10, random_state=42)\n",
    "clf.fit(X_train, y_train)\n",
    "y_pred = clf.predict(X_test)\n",
    "print(mean_squared_error(y_test,y_pred,squared=False))"
   ]
  },
  {
   "cell_type": "code",
   "execution_count": 120,
   "metadata": {},
   "outputs": [
    {
     "name": "stderr",
     "output_type": "stream",
     "text": [
      "/home/pavel/anaconda3/lib/python3.7/site-packages/sklearn/model_selection/_split.py:668: UserWarning: The least populated class in y has only 1 members, which is less than n_splits=3.\n",
      "  % (min_groups, self.n_splits)), UserWarning)\n"
     ]
    },
    {
     "name": "stdout",
     "output_type": "stream",
     "text": [
      "3166071.4427241473\n"
     ]
    }
   ],
   "source": [
    "from sklearn.model_selection import cross_val_score\n",
    "a = (-(np.mean(cross_val_score(clf, X, y, cv=3, scoring = 'neg_mean_squared_error', n_jobs = -1))))\n",
    "print(np.sqrt(a))"
   ]
  },
  {
   "cell_type": "markdown",
   "metadata": {
    "id": "3bezBBI7u_oF"
   },
   "source": [
    "### Feature Engineering (2 балла)\n",
    "\n",
    "Часто улучшить модель можно с помощью аккуратного Feature Engineering.\n",
    "\n",
    "Добавим в модель дополнительные признаки:\n",
    "* \"Как часто в этот год и этот месяц появлились объявления\"\n",
    "* \"Как часто в этот год и эту неделю появлялись объявления\""
   ]
  },
  {
   "cell_type": "code",
   "execution_count": 163,
   "metadata": {
    "id": "_cJ6SBqUKC4C"
   },
   "outputs": [
    {
     "name": "stderr",
     "output_type": "stream",
     "text": [
      "/home/pavel/anaconda3/lib/python3.7/site-packages/ipykernel_launcher.py:5: FutureWarning: Series.dt.weekofyear and Series.dt.week have been deprecated.  Please use Series.dt.isocalendar().week instead.\n",
      "  \"\"\"\n"
     ]
    }
   ],
   "source": [
    "month_year = (df.timestamp.dt.month + df.timestamp.dt.year * 100)\n",
    "month_year_cnt_map = month_year.value_counts().to_dict()\n",
    "df[\"month_year_cnt\"] = month_year.map(month_year_cnt_map)\n",
    "\n",
    "week_year = (df.timestamp.dt.weekofyear + df.timestamp.dt.year * 100)\n",
    "week_year_cnt_map = week_year.value_counts().to_dict()\n",
    "df[\"week_year_cnt\"] = week_year.map(week_year_cnt_map)"
   ]
  },
  {
   "cell_type": "markdown",
   "metadata": {
    "id": "pCajk45_KDSz"
   },
   "source": [
    "Добавьте следюущие дополнительные признаки:\n",
    "* Месяц (из колонки `timestamp`)\n",
    "* День недели (из колонки `timestamp`)\n",
    "* Отношение \"этаж / максимальный этаж в здании\" (колонки `floor` и `max_floor`)\n",
    "* Отношение \"площадь кухни / площадь квартиры\" (колонки `kitchen_sq` и `full_sq`)\n",
    "\n",
    "По желанию можно добавить и другие признаки."
   ]
  },
  {
   "cell_type": "code",
   "execution_count": 177,
   "metadata": {},
   "outputs": [],
   "source": [
    "\n",
    "df = df.drop(df[(df['max_floor'] == 0) | (df['full_sq'] == 0)].index)"
   ]
  },
  {
   "cell_type": "code",
   "execution_count": 178,
   "metadata": {
    "id": "dXZkoUL8Kve6"
   },
   "outputs": [],
   "source": [
    "df['month'] = df['timestamp'].dt.month"
   ]
  },
  {
   "cell_type": "code",
   "execution_count": 179,
   "metadata": {},
   "outputs": [],
   "source": [
    "df['f/f_max'] = df['floor']/df['max_floor']\n",
    "df['k_sq/f_sq'] = df['kitch_sq']/df['full_sq']\n",
    "df['month'] = df['timestamp'].dt.day"
   ]
  },
  {
   "cell_type": "markdown",
   "metadata": {
    "id": "_-jCowvWLiXZ"
   },
   "source": [
    "Разделите выборку на обучающую и тестовую еще раз (потому что дополнительные признаки созданы для исходной выборки)."
   ]
  },
  {
   "cell_type": "code",
   "execution_count": 180,
   "metadata": {},
   "outputs": [],
   "source": [
    "X = df.drop(['price', 'id', 'timestamp'],1)\n",
    "y = df['price']"
   ]
  },
  {
   "cell_type": "code",
   "execution_count": 181,
   "metadata": {},
   "outputs": [],
   "source": [
    "X = X._get_numeric_data()"
   ]
  },
  {
   "cell_type": "code",
   "execution_count": 182,
   "metadata": {},
   "outputs": [],
   "source": [
    "X = X.fillna(X.mode().iloc[0])"
   ]
  },
  {
   "cell_type": "code",
   "execution_count": 183,
   "metadata": {},
   "outputs": [
    {
     "data": {
      "text/html": [
       "<div>\n",
       "<style scoped>\n",
       "    .dataframe tbody tr th:only-of-type {\n",
       "        vertical-align: middle;\n",
       "    }\n",
       "\n",
       "    .dataframe tbody tr th {\n",
       "        vertical-align: top;\n",
       "    }\n",
       "\n",
       "    .dataframe thead th {\n",
       "        text-align: right;\n",
       "    }\n",
       "</style>\n",
       "<table border=\"1\" class=\"dataframe\">\n",
       "  <thead>\n",
       "    <tr style=\"text-align: right;\">\n",
       "      <th></th>\n",
       "      <th>full_sq</th>\n",
       "      <th>life_sq</th>\n",
       "      <th>floor</th>\n",
       "      <th>max_floor</th>\n",
       "      <th>material</th>\n",
       "      <th>build_year</th>\n",
       "      <th>num_room</th>\n",
       "      <th>kitch_sq</th>\n",
       "      <th>state</th>\n",
       "      <th>area_m</th>\n",
       "      <th>...</th>\n",
       "      <th>cafe_count_5000_price_high</th>\n",
       "      <th>big_church_count_5000</th>\n",
       "      <th>church_count_5000</th>\n",
       "      <th>mosque_count_5000</th>\n",
       "      <th>leisure_count_5000</th>\n",
       "      <th>sport_count_5000</th>\n",
       "      <th>market_count_5000</th>\n",
       "      <th>month</th>\n",
       "      <th>f/f_max</th>\n",
       "      <th>k_sq/f_sq</th>\n",
       "    </tr>\n",
       "  </thead>\n",
       "  <tbody>\n",
       "    <tr>\n",
       "      <th>0</th>\n",
       "      <td>1</td>\n",
       "      <td>1.0</td>\n",
       "      <td>1.0</td>\n",
       "      <td>1.0</td>\n",
       "      <td>1.0</td>\n",
       "      <td>1.0</td>\n",
       "      <td>1.0</td>\n",
       "      <td>1.0</td>\n",
       "      <td>1.0</td>\n",
       "      <td>5.293465e+06</td>\n",
       "      <td>...</td>\n",
       "      <td>2</td>\n",
       "      <td>15</td>\n",
       "      <td>33</td>\n",
       "      <td>1</td>\n",
       "      <td>12</td>\n",
       "      <td>75</td>\n",
       "      <td>10</td>\n",
       "      <td>26</td>\n",
       "      <td>1.000000</td>\n",
       "      <td>1.000000</td>\n",
       "    </tr>\n",
       "    <tr>\n",
       "      <th>1</th>\n",
       "      <td>64</td>\n",
       "      <td>64.0</td>\n",
       "      <td>16.0</td>\n",
       "      <td>17.0</td>\n",
       "      <td>1.0</td>\n",
       "      <td>2014.0</td>\n",
       "      <td>2.0</td>\n",
       "      <td>1.0</td>\n",
       "      <td>2.0</td>\n",
       "      <td>6.677245e+07</td>\n",
       "      <td>...</td>\n",
       "      <td>0</td>\n",
       "      <td>0</td>\n",
       "      <td>13</td>\n",
       "      <td>1</td>\n",
       "      <td>0</td>\n",
       "      <td>6</td>\n",
       "      <td>1</td>\n",
       "      <td>4</td>\n",
       "      <td>1.000000</td>\n",
       "      <td>0.000000</td>\n",
       "    </tr>\n",
       "    <tr>\n",
       "      <th>2</th>\n",
       "      <td>83</td>\n",
       "      <td>44.0</td>\n",
       "      <td>9.0</td>\n",
       "      <td>17.0</td>\n",
       "      <td>1.0</td>\n",
       "      <td>1985.0</td>\n",
       "      <td>3.0</td>\n",
       "      <td>10.0</td>\n",
       "      <td>3.0</td>\n",
       "      <td>1.216448e+07</td>\n",
       "      <td>...</td>\n",
       "      <td>1</td>\n",
       "      <td>8</td>\n",
       "      <td>18</td>\n",
       "      <td>0</td>\n",
       "      <td>1</td>\n",
       "      <td>52</td>\n",
       "      <td>0</td>\n",
       "      <td>5</td>\n",
       "      <td>0.529412</td>\n",
       "      <td>0.120482</td>\n",
       "    </tr>\n",
       "    <tr>\n",
       "      <th>3</th>\n",
       "      <td>71</td>\n",
       "      <td>49.0</td>\n",
       "      <td>2.0</td>\n",
       "      <td>17.0</td>\n",
       "      <td>1.0</td>\n",
       "      <td>2014.0</td>\n",
       "      <td>2.0</td>\n",
       "      <td>1.0</td>\n",
       "      <td>2.0</td>\n",
       "      <td>4.708040e+06</td>\n",
       "      <td>...</td>\n",
       "      <td>0</td>\n",
       "      <td>1</td>\n",
       "      <td>3</td>\n",
       "      <td>0</td>\n",
       "      <td>2</td>\n",
       "      <td>8</td>\n",
       "      <td>2</td>\n",
       "      <td>26</td>\n",
       "      <td>1.000000</td>\n",
       "      <td>0.000000</td>\n",
       "    </tr>\n",
       "    <tr>\n",
       "      <th>4</th>\n",
       "      <td>60</td>\n",
       "      <td>42.0</td>\n",
       "      <td>9.0</td>\n",
       "      <td>9.0</td>\n",
       "      <td>1.0</td>\n",
       "      <td>1970.0</td>\n",
       "      <td>3.0</td>\n",
       "      <td>6.0</td>\n",
       "      <td>2.0</td>\n",
       "      <td>1.428699e+07</td>\n",
       "      <td>...</td>\n",
       "      <td>0</td>\n",
       "      <td>5</td>\n",
       "      <td>8</td>\n",
       "      <td>0</td>\n",
       "      <td>1</td>\n",
       "      <td>34</td>\n",
       "      <td>5</td>\n",
       "      <td>29</td>\n",
       "      <td>1.000000</td>\n",
       "      <td>0.100000</td>\n",
       "    </tr>\n",
       "  </tbody>\n",
       "</table>\n",
       "<p>5 rows × 277 columns</p>\n",
       "</div>"
      ],
      "text/plain": [
       "   full_sq  life_sq  floor  max_floor  material  build_year  num_room  \\\n",
       "0        1      1.0    1.0        1.0       1.0         1.0       1.0   \n",
       "1       64     64.0   16.0       17.0       1.0      2014.0       2.0   \n",
       "2       83     44.0    9.0       17.0       1.0      1985.0       3.0   \n",
       "3       71     49.0    2.0       17.0       1.0      2014.0       2.0   \n",
       "4       60     42.0    9.0        9.0       1.0      1970.0       3.0   \n",
       "\n",
       "   kitch_sq  state        area_m  ...  cafe_count_5000_price_high  \\\n",
       "0       1.0    1.0  5.293465e+06  ...                           2   \n",
       "1       1.0    2.0  6.677245e+07  ...                           0   \n",
       "2      10.0    3.0  1.216448e+07  ...                           1   \n",
       "3       1.0    2.0  4.708040e+06  ...                           0   \n",
       "4       6.0    2.0  1.428699e+07  ...                           0   \n",
       "\n",
       "   big_church_count_5000  church_count_5000  mosque_count_5000  \\\n",
       "0                     15                 33                  1   \n",
       "1                      0                 13                  1   \n",
       "2                      8                 18                  0   \n",
       "3                      1                  3                  0   \n",
       "4                      5                  8                  0   \n",
       "\n",
       "   leisure_count_5000  sport_count_5000  market_count_5000  month   f/f_max  \\\n",
       "0                  12                75                 10     26  1.000000   \n",
       "1                   0                 6                  1      4  1.000000   \n",
       "2                   1                52                  0      5  0.529412   \n",
       "3                   2                 8                  2     26  1.000000   \n",
       "4                   1                34                  5     29  1.000000   \n",
       "\n",
       "   k_sq/f_sq  \n",
       "0   1.000000  \n",
       "1   0.000000  \n",
       "2   0.120482  \n",
       "3   0.000000  \n",
       "4   0.100000  \n",
       "\n",
       "[5 rows x 277 columns]"
      ]
     },
     "execution_count": 183,
     "metadata": {},
     "output_type": "execute_result"
    }
   ],
   "source": [
    "X.head()"
   ]
  },
  {
   "cell_type": "code",
   "execution_count": 184,
   "metadata": {
    "id": "0f-vO3LcLhdf"
   },
   "outputs": [],
   "source": [
    "from sklearn.model_selection import train_test_split\n",
    "X_train, X_test, y_train, y_test = train_test_split(X, y, test_size = 0.8, random_state = 42)"
   ]
  },
  {
   "cell_type": "code",
   "execution_count": 186,
   "metadata": {},
   "outputs": [
    {
     "name": "stdout",
     "output_type": "stream",
     "text": [
      "5571968.830422425\n"
     ]
    }
   ],
   "source": [
    "clf = DecisionTreeClassifier(max_depth=10, random_state=42)\n",
    "clf.fit(X_train, y_train)\n",
    "y_pred = clf.predict(X_test)\n",
    "print(mean_squared_error(y_test,y_pred,squared=False))"
   ]
  },
  {
   "cell_type": "markdown",
   "metadata": {
    "id": "CPtzkpFEvBw9"
   },
   "source": [
    "### Model Selection (3 балла)\n",
    "\n",
    "Посмотрите, какого качества можно добиться если использовать разные модели:\n",
    "* `DecisionTreeRegressor` из `sklearn`\n",
    "* `RandomForestRegressor` из `sklearn`\n",
    "* `CatBoostRegressor`\n",
    "\n",
    "Также вы можете попробовать линейные модели, другие бустинги (`LigthGBM` и `XGBoost`).\n",
    "\n",
    "Почти все библиотеки поддерживают удобный способ подбора гиперпараметров: посмотрите как это делать в [sklearn](https://scikit-learn.org/stable/modules/generated/sklearn.model_selection.GridSearchCV.html) или в [catboost](https://catboost.ai/docs/concepts/python-reference_catboostregressor_grid_search.html).\n",
    "\n",
    "Проверяйте качество каждой модели на тестовой выборке и выберите наилучшую."
   ]
  },
  {
   "cell_type": "code",
   "execution_count": 187,
   "metadata": {
    "id": "PZstXx6uNRfE"
   },
   "outputs": [],
   "source": [
    "df = pd.read_csv(\"data.csv\", parse_dates=[\"timestamp\"])\n",
    "X = df.drop(['price', 'id', 'timestamp'],1)\n",
    "y = df['price']\n",
    "X = X._get_numeric_data()\n",
    "X = X.fillna(X.mode().iloc[0])\n",
    "X_train, X_test, y_train, y_test = train_test_split(X, y, test_size = 0.8, random_state = 42)\n"
   ]
  },
  {
   "cell_type": "code",
   "execution_count": 196,
   "metadata": {},
   "outputs": [
    {
     "name": "stdout",
     "output_type": "stream",
     "text": [
      "3229384.956807871\n"
     ]
    }
   ],
   "source": [
    "from sklearn.tree import DecisionTreeRegressor\n",
    "reg = DecisionTreeRegressor(random_state=42,max_depth = 4)\n",
    "reg.fit(X_train, y_train)\n",
    "y_pred = reg.predict(X_test)\n",
    "print(mean_squared_error(y_test,y_pred,squared=False))"
   ]
  },
  {
   "cell_type": "code",
   "execution_count": 197,
   "metadata": {
    "scrolled": true
   },
   "outputs": [
    {
     "name": "stdout",
     "output_type": "stream",
     "text": [
      "3210989.550525682\n"
     ]
    }
   ],
   "source": [
    "a = (-(np.mean(cross_val_score(reg, X, y, cv=3, scoring = 'neg_mean_squared_error', n_jobs = -1))))\n",
    "print(np.sqrt(a))"
   ]
  },
  {
   "cell_type": "code",
   "execution_count": 198,
   "metadata": {},
   "outputs": [
    {
     "name": "stdout",
     "output_type": "stream",
     "text": [
      "6202523.064701841\n"
     ]
    }
   ],
   "source": [
    "from sklearn.ensemble import RandomForestClassifier\n",
    "rf_classifier = RandomForestClassifier(n_estimators=50, max_depth=10, random_state=42)\n",
    "rf_classifier.fit(X_train, y_train)\n",
    "y_pred = rf_classifier.predict(X_test)\n",
    "print(mean_squared_error(y_test,y_pred,squared=False))"
   ]
  },
  {
   "cell_type": "markdown",
   "metadata": {
    "id": "JxQnozbtvD6x"
   },
   "source": [
    "### Ensemble v.1 (3 балла)\n",
    "\n",
    "Ансамбли иногда оказываются лучше чем одна большая модель.\n",
    "\n",
    "В колонке `product_type` содержится информация о том, каким является объявление: `Investment` (продажа квартиры как инвестиции) или `OwnerOccupier` (продажа квартиры для жилья). Логично предположить, что если сделать по модели на каждый из этих типов, то качество будет выше.\n",
    "\n",
    "Обучите свои лучшие модели на отдельно на `Investment` и `OwnerOccupier` (т.е. у вас будет `model_invest`, обученная на `(invest_train_X, invest_train_Y)` и `model_owner`, обученная на `(owner_train_X, owner_train_Y)`) и проверьте качество на отложенной выборке (т.е. на исходном `test_split`)."
   ]
  },
  {
   "cell_type": "code",
   "execution_count": 220,
   "metadata": {
    "id": "HeJOCYa-O_VE"
   },
   "outputs": [],
   "source": [
    "df = pd.read_csv(\"data.csv\", parse_dates=[\"timestamp\"])\n",
    "df_invest = df.drop(df[(df['product_type'] =='Investment')].index)"
   ]
  },
  {
   "cell_type": "code",
   "execution_count": 221,
   "metadata": {},
   "outputs": [],
   "source": [
    "df_own = df.drop(df[(df['product_type'] =='OwnerOccupier')].index)"
   ]
  },
  {
   "cell_type": "code",
   "execution_count": 222,
   "metadata": {},
   "outputs": [],
   "source": [
    "X_invest = df_invest.drop(['price', 'id', 'timestamp'],1)\n",
    "y_invest = df_invest['price']\n",
    "X_invest = X_invest._get_numeric_data()\n",
    "X_invest = X_invest.fillna(X.mode().iloc[0])"
   ]
  },
  {
   "cell_type": "code",
   "execution_count": 223,
   "metadata": {},
   "outputs": [],
   "source": [
    "X_train_invest, X_test_invest, y_train_invest, y_test_invest = train_test_split(X_invest, y_invest, test_size = 0.8, random_state = 42)"
   ]
  },
  {
   "cell_type": "code",
   "execution_count": 224,
   "metadata": {},
   "outputs": [
    {
     "name": "stdout",
     "output_type": "stream",
     "text": [
      "2595079.2993084826\n"
     ]
    }
   ],
   "source": [
    "reg = DecisionTreeRegressor(random_state=42,max_depth = 4)\n",
    "reg.fit(X_train_invest, y_train_invest)\n",
    "y_pred_invest = reg.predict(X_test_invest)\n",
    "print(mean_squared_error(y_test_invest,y_pred_invest,squared=False))"
   ]
  },
  {
   "cell_type": "code",
   "execution_count": 225,
   "metadata": {},
   "outputs": [],
   "source": [
    "X_own = df_own.drop(['price', 'id', 'timestamp'],1)\n",
    "y_own = df_own['price']\n",
    "X_own = X_own._get_numeric_data()\n",
    "X_own = X_own.fillna(X.mode().iloc[0])"
   ]
  },
  {
   "cell_type": "code",
   "execution_count": 226,
   "metadata": {},
   "outputs": [],
   "source": [
    "X_train_own, X_test_own, y_train_own, y_test_own = train_test_split(X_own, y_own, test_size = 0.8, random_state = 42)"
   ]
  },
  {
   "cell_type": "code",
   "execution_count": 227,
   "metadata": {},
   "outputs": [
    {
     "name": "stdout",
     "output_type": "stream",
     "text": [
      "3493824.4122218667\n"
     ]
    }
   ],
   "source": [
    "reg.fit(X_train_own, y_train_own)\n",
    "y_pred_own = reg.predict(X_test_own)\n",
    "print(mean_squared_error(y_test_own,y_pred_own,squared=False))"
   ]
  },
  {
   "cell_type": "markdown",
   "metadata": {
    "id": "J8t-klaK2A6s"
   },
   "source": [
    "### (*) Ensemble v.2 (дополнительно, 2 балла)\n",
    "\n",
    "Попробуйте сделать для `Investment` более сложную модель: обучите `CatBoostRegressor` и `HuberRegressor` из `sklearn`, а затем сложите их предсказания с весами `w_1` и `w_2` (выберите веса сами; сумма весов равняется 1)."
   ]
  },
  {
   "cell_type": "code",
   "execution_count": 9,
   "metadata": {
    "id": "JOKD-l8HuOgM"
   },
   "outputs": [
    {
     "name": "stdout",
     "output_type": "stream",
     "text": [
      "Collecting catboost\n",
      "  Downloading catboost-0.25-cp37-none-manylinux1_x86_64.whl (67.3 MB)\n",
      "\u001b[K     |████████████████████████████████| 67.3 MB 6.8 MB/s eta 0:00:013     |████████████████▎               | 34.2 MB 11.6 MB/s eta 0:00:03\n",
      "\u001b[?25hCollecting graphviz\n",
      "  Downloading graphviz-0.16-py2.py3-none-any.whl (19 kB)\n",
      "Collecting plotly\n",
      "  Downloading plotly-4.14.3-py2.py3-none-any.whl (13.2 MB)\n",
      "\u001b[K     |████████████████████████████████| 13.2 MB 7.5 MB/s eta 0:00:01    |███████████████████████▍        | 9.6 MB 7.5 MB/s eta 0:00:01\n",
      "\u001b[?25hRequirement already satisfied: six in /home/pavel/anaconda3/lib/python3.7/site-packages (from catboost) (1.15.0)\n",
      "Requirement already satisfied: numpy>=1.16.0 in /home/pavel/anaconda3/lib/python3.7/site-packages (from catboost) (1.19.2)\n",
      "Requirement already satisfied: pandas>=0.24.0 in /home/pavel/anaconda3/lib/python3.7/site-packages (from catboost) (1.2.3)\n",
      "Requirement already satisfied: matplotlib in /home/pavel/anaconda3/lib/python3.7/site-packages (from catboost) (3.3.4)\n",
      "Requirement already satisfied: scipy in /home/pavel/anaconda3/lib/python3.7/site-packages (from catboost) (1.6.1)\n",
      "Requirement already satisfied: python-dateutil>=2.7.3 in /home/pavel/anaconda3/lib/python3.7/site-packages (from pandas>=0.24.0->catboost) (2.8.1)\n",
      "Requirement already satisfied: pytz>=2017.3 in /home/pavel/anaconda3/lib/python3.7/site-packages (from pandas>=0.24.0->catboost) (2021.1)\n",
      "Requirement already satisfied: pyparsing!=2.0.4,!=2.1.2,!=2.1.6,>=2.0.3 in /home/pavel/anaconda3/lib/python3.7/site-packages (from matplotlib->catboost) (2.4.7)\n",
      "Requirement already satisfied: pillow>=6.2.0 in /home/pavel/anaconda3/lib/python3.7/site-packages (from matplotlib->catboost) (8.1.1)\n",
      "Requirement already satisfied: cycler>=0.10 in /home/pavel/anaconda3/lib/python3.7/site-packages (from matplotlib->catboost) (0.10.0)\n",
      "Requirement already satisfied: kiwisolver>=1.0.1 in /home/pavel/anaconda3/lib/python3.7/site-packages (from matplotlib->catboost) (1.3.1)\n",
      "Collecting retrying>=1.3.3\n",
      "  Downloading retrying-1.3.3.tar.gz (10 kB)\n",
      "Building wheels for collected packages: retrying\n",
      "  Building wheel for retrying (setup.py) ... \u001b[?25ldone\n",
      "\u001b[?25h  Created wheel for retrying: filename=retrying-1.3.3-py3-none-any.whl size=11429 sha256=53bfe6b8cf73acbb1a1acd1cc7657de389051c560085f3c1c7b883337bd9c33f\n",
      "  Stored in directory: /home/pavel/.cache/pip/wheels/f9/8d/8d/f6af3f7f9eea3553bc2fe6d53e4b287dad18b06a861ac56ddf\n",
      "Successfully built retrying\n",
      "Installing collected packages: retrying, plotly, graphviz, catboost\n",
      "Successfully installed catboost-0.25 graphviz-0.16 plotly-4.14.3 retrying-1.3.3\n",
      "Note: you may need to restart the kernel to use updated packages.\n"
     ]
    }
   ],
   "source": [
    "pip install catboost"
   ]
  },
  {
   "cell_type": "code",
   "execution_count": 59,
   "metadata": {},
   "outputs": [],
   "source": [
    "from catboost import  CatBoostRegressor"
   ]
  },
  {
   "cell_type": "code",
   "execution_count": 252,
   "metadata": {},
   "outputs": [],
   "source": [
    "df = pd.read_csv(\"data.csv\", parse_dates=[\"timestamp\"])\n",
    "df_invest = df.drop(df[(df['product_type'] =='OwnerOccupier')].index)\n"
   ]
  },
  {
   "cell_type": "code",
   "execution_count": 253,
   "metadata": {},
   "outputs": [],
   "source": [
    "X_invest = df_invest.drop(['price', 'id', 'timestamp'],1)\n",
    "X_invest = X_invest.fillna(X_invest.mode().iloc[0])\n",
    "y_invest = df_invest['price']\n",
    "cat_columns = [\n",
    "    'product_type',            #\n",
    "    'material',                  # Material of the wall\n",
    "    'state',                     # Satisfaction level\n",
    "    'sub_area',                  # District name\n",
    "    'culture_objects_top_25',    #\n",
    "    'thermal_power_plant_raion', #\n",
    "    'incineration_raion',        #\n",
    "    'oil_chemistry_raion',       #\n",
    "    'radiation_raion',           #\n",
    "    'railroad_terminal_raion',   #\n",
    "    'big_market_raion',          #\n",
    "    'nuclear_reactor_raion',     #\n",
    "    'detention_facility_raion',  #\n",
    "    'ID_metro',                  #\n",
    "    'ID_railroad_station_walk',  #\n",
    "    'ID_railroad_station_avto',  #\n",
    "    'water_1line',               #\n",
    "    'ID_big_road1',              #\n",
    "    'big_road1_1line',           #\n",
    "    'ID_big_road2',              #\n",
    "    'railroad_1line',            #\n",
    "    'ID_railroad_terminal',      #\n",
    "    'ID_bus_terminal',           #\n",
    "    'ecology',                   #\n",
    "]\n",
    "for i in cat_columns:\n",
    "    X_invest[i] = X_invest[i].astype(str)"
   ]
  },
  {
   "cell_type": "code",
   "execution_count": 261,
   "metadata": {},
   "outputs": [],
   "source": [
    "model = CatBoostRegressor(iterations=35, \n",
    "                          depth=5, \n",
    "                          learning_rate=0.6, \n",
    "                          loss_function='RMSE',cat_features = cat_columns)"
   ]
  },
  {
   "cell_type": "code",
   "execution_count": 262,
   "metadata": {},
   "outputs": [],
   "source": [
    "from sklearn.model_selection import train_test_split"
   ]
  },
  {
   "cell_type": "code",
   "execution_count": 263,
   "metadata": {},
   "outputs": [],
   "source": [
    "X_train_invest, X_test_invest, y_train_invest, y_test_invest = train_test_split(X_invest, y_invest, test_size = 0.8, random_state = 42)"
   ]
  },
  {
   "cell_type": "code",
   "execution_count": 264,
   "metadata": {},
   "outputs": [
    {
     "name": "stdout",
     "output_type": "stream",
     "text": [
      "0:\tlearn: 3706273.4717693\ttotal: 8.65ms\tremaining: 294ms\n",
      "1:\tlearn: 3230699.4992212\ttotal: 20.8ms\tremaining: 343ms\n",
      "2:\tlearn: 3050961.4686980\ttotal: 29.1ms\tremaining: 310ms\n",
      "3:\tlearn: 2919849.6792875\ttotal: 36.7ms\tremaining: 285ms\n",
      "4:\tlearn: 2838225.8627007\ttotal: 44.3ms\tremaining: 266ms\n",
      "5:\tlearn: 2792728.4778473\ttotal: 51.9ms\tremaining: 251ms\n",
      "6:\tlearn: 2761892.3676062\ttotal: 59.2ms\tremaining: 237ms\n",
      "7:\tlearn: 2713058.1898711\ttotal: 66.6ms\tremaining: 225ms\n",
      "8:\tlearn: 2660315.2367528\ttotal: 74.7ms\tremaining: 216ms\n",
      "9:\tlearn: 2637724.4509354\ttotal: 82.4ms\tremaining: 206ms\n",
      "10:\tlearn: 2608677.1515469\ttotal: 90.1ms\tremaining: 197ms\n",
      "11:\tlearn: 2583176.1802900\ttotal: 97.4ms\tremaining: 187ms\n",
      "12:\tlearn: 2574358.9172466\ttotal: 105ms\tremaining: 177ms\n",
      "13:\tlearn: 2560694.9655440\ttotal: 112ms\tremaining: 168ms\n",
      "14:\tlearn: 2533383.6114589\ttotal: 119ms\tremaining: 159ms\n",
      "15:\tlearn: 2487775.5509778\ttotal: 127ms\tremaining: 150ms\n",
      "16:\tlearn: 2478302.4367621\ttotal: 134ms\tremaining: 142ms\n",
      "17:\tlearn: 2444577.0590217\ttotal: 141ms\tremaining: 134ms\n",
      "18:\tlearn: 2406842.5935044\ttotal: 149ms\tremaining: 125ms\n",
      "19:\tlearn: 2359139.5776722\ttotal: 156ms\tremaining: 117ms\n",
      "20:\tlearn: 2335064.3866304\ttotal: 164ms\tremaining: 109ms\n",
      "21:\tlearn: 2318449.5622707\ttotal: 171ms\tremaining: 101ms\n",
      "22:\tlearn: 2312603.9675750\ttotal: 178ms\tremaining: 92.9ms\n",
      "23:\tlearn: 2281882.5998584\ttotal: 185ms\tremaining: 84.9ms\n",
      "24:\tlearn: 2252206.7429876\ttotal: 193ms\tremaining: 77ms\n",
      "25:\tlearn: 2210648.2100024\ttotal: 200ms\tremaining: 69.2ms\n",
      "26:\tlearn: 2179949.4219398\ttotal: 209ms\tremaining: 61.9ms\n",
      "27:\tlearn: 2165783.6254132\ttotal: 218ms\tremaining: 54.4ms\n",
      "28:\tlearn: 2160770.4960837\ttotal: 228ms\tremaining: 47.3ms\n",
      "29:\tlearn: 2142850.2775253\ttotal: 238ms\tremaining: 39.7ms\n",
      "30:\tlearn: 2115971.4923663\ttotal: 246ms\tremaining: 31.8ms\n",
      "31:\tlearn: 2085650.0247029\ttotal: 255ms\tremaining: 23.9ms\n",
      "32:\tlearn: 2072467.6059288\ttotal: 262ms\tremaining: 15.9ms\n",
      "33:\tlearn: 2051654.9100986\ttotal: 270ms\tremaining: 7.96ms\n",
      "34:\tlearn: 2029101.5384895\ttotal: 278ms\tremaining: 0us\n"
     ]
    },
    {
     "data": {
      "text/plain": [
       "<catboost.core.CatBoostRegressor at 0x7f8c15df5590>"
      ]
     },
     "execution_count": 264,
     "metadata": {},
     "output_type": "execute_result"
    }
   ],
   "source": [
    "model.fit(X_train_invest, y_train_invest)"
   ]
  },
  {
   "cell_type": "code",
   "execution_count": 265,
   "metadata": {},
   "outputs": [],
   "source": [
    "y_pred = model.predict(X_test_invest)"
   ]
  },
  {
   "cell_type": "code",
   "execution_count": 266,
   "metadata": {},
   "outputs": [
    {
     "name": "stdout",
     "output_type": "stream",
     "text": [
      "3460444.592864955\n"
     ]
    }
   ],
   "source": [
    "from sklearn.metrics import mean_squared_error\n",
    "print(mean_squared_error(y_pred,y_test_invest,squared=False))"
   ]
  },
  {
   "cell_type": "code",
   "execution_count": 267,
   "metadata": {},
   "outputs": [
    {
     "name": "stdout",
     "output_type": "stream",
     "text": [
      "3176251.4602305074\n"
     ]
    }
   ],
   "source": [
    "from sklearn.model_selection import cross_val_score\n",
    "a = (-(np.mean(cross_val_score(model, X_invest, y_invest, cv=3, scoring = 'neg_mean_squared_error', n_jobs = -1))))\n",
    "print(np.sqrt(a))"
   ]
  },
  {
   "cell_type": "code",
   "execution_count": 191,
   "metadata": {},
   "outputs": [],
   "source": [
    "df = pd.read_csv(\"data.csv\", parse_dates=[\"timestamp\"])\n",
    "X = df.drop(['price', 'id', 'timestamp'],1)\n",
    "y = df['price']\n",
    "X = X._get_numeric_data()\n",
    "X = X.fillna(X.mode().iloc[0])\n",
    "X_train, X_test, y_train, y_test = train_test_split(X, y, test_size = 0.8, random_state = 42)"
   ]
  },
  {
   "cell_type": "code",
   "execution_count": 249,
   "metadata": {},
   "outputs": [],
   "source": [
    "model = CatBoostRegressor(iterations=25, \n",
    "                          depth=5, \n",
    "                          learning_rate=0.5, \n",
    "                          loss_function='RMSE',)"
   ]
  },
  {
   "cell_type": "code",
   "execution_count": 250,
   "metadata": {},
   "outputs": [
    {
     "name": "stdout",
     "output_type": "stream",
     "text": [
      "0:\tlearn: 3768304.3826268\ttotal: 12.8ms\tremaining: 306ms\n",
      "1:\tlearn: 3269120.4381110\ttotal: 23.9ms\tremaining: 275ms\n",
      "2:\tlearn: 3001389.3363773\ttotal: 32.7ms\tremaining: 240ms\n",
      "3:\tlearn: 2811332.7781049\ttotal: 40.7ms\tremaining: 214ms\n",
      "4:\tlearn: 2759084.8728346\ttotal: 48.6ms\tremaining: 194ms\n",
      "5:\tlearn: 2672879.9276719\ttotal: 55.9ms\tremaining: 177ms\n",
      "6:\tlearn: 2602664.1744047\ttotal: 63.1ms\tremaining: 162ms\n",
      "7:\tlearn: 2521423.4774203\ttotal: 70.3ms\tremaining: 149ms\n",
      "8:\tlearn: 2493563.1208568\ttotal: 77.3ms\tremaining: 137ms\n",
      "9:\tlearn: 2455377.0555989\ttotal: 84.5ms\tremaining: 127ms\n",
      "10:\tlearn: 2413720.4505378\ttotal: 91.8ms\tremaining: 117ms\n",
      "11:\tlearn: 2394581.3410222\ttotal: 98.8ms\tremaining: 107ms\n",
      "12:\tlearn: 2351625.3082299\ttotal: 106ms\tremaining: 97.9ms\n",
      "13:\tlearn: 2327790.4300801\ttotal: 113ms\tremaining: 89ms\n",
      "14:\tlearn: 2318981.3643947\ttotal: 120ms\tremaining: 80.1ms\n",
      "15:\tlearn: 2291140.3553342\ttotal: 127ms\tremaining: 71.5ms\n",
      "16:\tlearn: 2270756.3094535\ttotal: 135ms\tremaining: 63.5ms\n",
      "17:\tlearn: 2240700.1313680\ttotal: 142ms\tremaining: 55.2ms\n",
      "18:\tlearn: 2213903.8135326\ttotal: 149ms\tremaining: 47.1ms\n",
      "19:\tlearn: 2185101.9498843\ttotal: 156ms\tremaining: 39.1ms\n",
      "20:\tlearn: 2155101.6753076\ttotal: 164ms\tremaining: 31.2ms\n",
      "21:\tlearn: 2123841.5025361\ttotal: 171ms\tremaining: 23.3ms\n",
      "22:\tlearn: 2108641.6316527\ttotal: 177ms\tremaining: 15.4ms\n",
      "23:\tlearn: 2077648.3008964\ttotal: 185ms\tremaining: 7.69ms\n",
      "24:\tlearn: 2051907.0239367\ttotal: 192ms\tremaining: 0us\n",
      "2873987.558894978\n"
     ]
    }
   ],
   "source": [
    "model.fit(X_train, y_train)\n",
    "y_pred = model.predict(X_test)\n",
    "print(mean_squared_error(y_pred,y_test,squared=False))"
   ]
  },
  {
   "cell_type": "code",
   "execution_count": 251,
   "metadata": {},
   "outputs": [
    {
     "name": "stdout",
     "output_type": "stream",
     "text": [
      "2759256.235952743\n"
     ]
    }
   ],
   "source": [
    "a = (-(np.mean(cross_val_score(model, X, y, cv=3, scoring = 'neg_mean_squared_error', n_jobs = -1))))\n",
    "print(np.sqrt(a))"
   ]
  },
  {
   "cell_type": "code",
   "execution_count": null,
   "metadata": {},
   "outputs": [],
   "source": []
  }
 ],
 "metadata": {
  "colab": {
   "collapsed_sections": [],
   "name": "Копия блокнота \"Task.ipynb\"",
   "provenance": []
  },
  "kernelspec": {
   "display_name": "Python 3",
   "language": "python",
   "name": "python3"
  },
  "language_info": {
   "codemirror_mode": {
    "name": "ipython",
    "version": 3
   },
   "file_extension": ".py",
   "mimetype": "text/x-python",
   "name": "python",
   "nbconvert_exporter": "python",
   "pygments_lexer": "ipython3",
   "version": "3.7.4"
  }
 },
 "nbformat": 4,
 "nbformat_minor": 1
}
